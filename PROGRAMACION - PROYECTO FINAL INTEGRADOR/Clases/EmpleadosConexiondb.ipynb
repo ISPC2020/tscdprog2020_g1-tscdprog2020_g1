{
 "cells": [
  {
   "cell_type": "code",
   "execution_count": 13,
   "id": "e6c68d3d",
   "metadata": {},
   "outputs": [
    {
     "name": "stdout",
     "output_type": "stream",
     "text": [
      "   emp_no  last_name  max(s.salary)   from_date     to_date\n",
      "0   10001    Facello          88958  1986-06-26  1987-06-26\n",
      "1   10002     Simmel          72527  1996-08-03  1997-08-03\n",
      "2   10003    Bamford          43699  1995-12-03  1996-12-02\n",
      "3   10004    Koblick          74057  1986-12-01  1987-12-01\n",
      "4   10005   Maliniak          94692  1989-09-12  1990-09-12\n",
      "5   10006    Preusig          60098  1990-08-05  1991-08-05\n",
      "6   10007  Zielinski          88070  1989-02-10  1990-02-10\n",
      "7   10008   Kalloufi          52668  1998-03-11  1999-03-11\n",
      "8   10009       Peac          94443  1985-02-18  1986-02-18\n",
      "9   10010   Piveteau          80324  1996-11-24  1997-11-24\n"
     ]
    }
   ],
   "source": [
    "import pymysql\n",
    "import pandas as pd\n",
    "import numpy as np\n",
    "\n",
    "\n",
    "\n",
    "\n",
    "\n",
    "class DataBase:\n",
    "    def __init__(self):\n",
    "        try:\n",
    "            self.connection = pymysql.connect(\n",
    "                host='127.0.0.1',\n",
    "                port=3306,\n",
    "                user='root',\n",
    "                password='',\n",
    "                db='employees')\n",
    "        except (pymysql.err.OperationalError, pymysql.err.InternalError) as e:\n",
    "            print(\"Ocurrió un error al conectar: \", e)\n",
    "    \n",
    "    def Consulta(self):\n",
    "        try:\n",
    "            with self.connection.cursor() as cursor:\n",
    "                consulta = \"SELECT * FROM employees HAVING COUNT(*) > 10;\"\n",
    "                cursor.execute(consulta)\n",
    " \n",
    "            # Con fetchall traemos todas las filas\n",
    "            employees = cursor.fetchall()\n",
    " \n",
    "            # Recorrer e imprimir\n",
    "            for emp in employees:\n",
    "                print(emp)\n",
    "        finally:\n",
    "            self.connection.close()\n",
    "    #Cargamos Datos en un Data Frame\n",
    "    def PdConsulta(self):\n",
    "        self.employees_table = pd.read_sql_query(\"SELECT DISTINCT  e.emp_no, e.last_name, max(s.salary), s.from_date, s.to_date FROM salaries s INNER JOIN employees e ON s.emp_no=e.emp_no  group by e.emp_no having max(s.salary) LIMIT 10\" ,self.connection)\n",
    "        return self.employees_table\n",
    "\n",
    "\n",
    "\n",
    "database= DataBase()\n",
    "database.Consulta\n",
    "pdquery = database.PdConsulta()\n",
    "print(pdquery)\n",
    "\n",
    "\n",
    "\n",
    "\n",
    " "
   ]
  },
  {
   "cell_type": "code",
   "execution_count": null,
   "id": "5a402ef9",
   "metadata": {},
   "outputs": [],
   "source": []
  }
 ],
 "metadata": {
  "kernelspec": {
   "display_name": "Python 3",
   "language": "python",
   "name": "python3"
  },
  "language_info": {
   "codemirror_mode": {
    "name": "ipython",
    "version": 3
   },
   "file_extension": ".py",
   "mimetype": "text/x-python",
   "name": "python",
   "nbconvert_exporter": "python",
   "pygments_lexer": "ipython3",
   "version": "3.9.5"
  }
 },
 "nbformat": 4,
 "nbformat_minor": 5
}
