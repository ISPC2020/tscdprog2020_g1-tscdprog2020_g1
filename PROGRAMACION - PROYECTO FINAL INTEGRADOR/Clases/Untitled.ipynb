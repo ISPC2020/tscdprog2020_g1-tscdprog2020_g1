{
 "cells": [
  {
   "cell_type": "code",
   "execution_count": 1,
   "id": "a58de978",
   "metadata": {},
   "outputs": [],
   "source": [
    "# creamos nuestra clase agenda\n",
    "class Agenda:\n",
    "\t# iniciamos nuestra clase\n",
    "\tdef __init__(self):\n",
    "\t\t# crearemos una lista donde guardaremos los datos de nuestra agenda\n",
    "\t\tself.contactos=[]\n",
    " \n",
    " \n",
    "\t# función para añadir un contacto\n",
    "\tdef anadir(self):\n",
    "\t\tprint(\"---------------------\")\n",
    "\t\tprint(\"Añadir nuevo contacto\")\n",
    "\t\tprint(\"---------------------\")\n",
    "\t\tnom=input(\"Introduzca el nombre: \")\n",
    "\t\ttelf=int(input(\"Introduzca el teléfono: \"))\n",
    "\t\temail=input(\"Introduzca el email: \")\n",
    "\t\tself.contactos.append({'nombre':nom,'telf':telf,'email':email})\n",
    "\t\t\n",
    " \n",
    "\t# función para imprimir la lista de contactos\n",
    "\t# En este caso imprimiremos solo los nombres de los contactos\n",
    "\t# con ellos podremos buscar luego un contacto\n",
    "\tdef lista(self):\n",
    "\t\tprint(\"------------------\")\n",
    "\t\tprint(\"Lista de contactos\")\n",
    "\t\tprint(\"------------------\")\n",
    "\t\tif len(self.contactos) == 0:\n",
    "\t\t\tprint(\"No hay ningún contacto en la agenda\")\n",
    "\t\telse:\n",
    "\t\t\tfor x in range(len(self.contactos)):\n",
    "\t\t\t\tprint(self.contactos[x]['nombre'])\n",
    "\t\t\n",
    " \n",
    "\t# función para buscar un contacto a través del nombre\n",
    "\tdef buscar(self):\n",
    "\t\tprint(\"---------------------\")\n",
    "\t\tprint(\"Buscador de contactos\")\n",
    "\t\tprint(\"---------------------\")\n",
    "\t\tnom=input(\"Introduzca el nombre del contacto: \")\n",
    "\t\tfor x in range(len(self.contactos)):\n",
    "\t\t\tif nom == self.contactos[x]['nombre']:\n",
    "\t\t\t\tprint(\"Datos del contacto\")\n",
    "\t\t\t\tprint(\"Nombre: \",self.contactos[x]['nombre'])\n",
    "\t\t\t\tprint(\"Teléfono: \",self.contactos[x]['telf'])\n",
    "\t\t\t\tprint(\"E-mail: \",self.contactos[x]['email'])\n",
    "\t\t\t\treturn x"
   ]
  },
  {
   "cell_type": "code",
   "execution_count": 2,
   "id": "87a61901",
   "metadata": {},
   "outputs": [],
   "source": [
    "# creamos la clase Cuenta\n",
    "class Cuenta:\n",
    "\t# inicializamos los atributos de la clase\n",
    "\tdef __init__(self,titular,cantidad):\n",
    "\t\tself.titular=titular\n",
    "\t\tself.cantidad=cantidad\n",
    "\n",
    "\t# imprimimos los datos\n",
    "\tdef imprimir(self):\n",
    "\t\tprint(\"Titular: \",self.titular)\n",
    "\t\tprint(\"Cantidad: \", self.cantidad)\n",
    "\n",
    "\n",
    "# creamos la clase CajaAhorro\n",
    "# esta clase hereda atributos de la clase Cuenta\n",
    "class CajaAhorro(Cuenta):\n",
    "\t# iniciamos los atributos de la clase\n",
    "\tdef __init__(self,titular,cantidad):\n",
    "\t\tsuper().__init__(titular,cantidad)\n",
    "\n",
    "\t# imprimimos los datos de la cuenta\n",
    "\tdef imprimir(self):\n",
    "\t\tprint(\"Cuenta de caja de ahorros\")\n",
    "\t\tsuper().imprimir()\n",
    "\n",
    "\n",
    "# creamos la clase PlazoFijo\n",
    "# esta clase también hereda atributos de la clase Cuenta\n",
    "class PlazoFijo(Cuenta):\n",
    "\t# inicializamos los atributos de la clase\n",
    "\tdef __init__(self,titular,cantidad,plazo,interes):\n",
    "\t\tsuper().__init__(titular,cantidad)\n",
    "\t\tself.plazo=plazo\n",
    "\t\tself.interes=interes\n",
    "\n",
    "\n",
    "\t# calculamos la ganancia\n",
    "\tdef ganancia(self):\n",
    "\t\tganancia=self.cantidad*self.interes/100\n",
    "\t\tprint(\"El importe de interés es: \",ganancia)\n",
    "\n",
    "\n",
    "\t# imprimimos los resultados\n",
    "\tdef imprimir(self):\n",
    "\t\tprint(\"Cuenta a plazo fijo\")\n",
    "\t\tsuper().imprimir()\n",
    "\t\tprint(\"Plazo disponible en días: \",self.plazo)\n",
    "\t\tprint(\"Interés: \",self.interes)\n",
    "\t\tself.ganancia()"
   ]
  },
  {
   "cell_type": "code",
   "execution_count": 3,
   "id": "ed41e7b4",
   "metadata": {},
   "outputs": [
    {
     "name": "stdout",
     "output_type": "stream",
     "text": [
      "El total de dinero del banco es:  943\n",
      "Ivan  tiene depositada una cantidad de  600\n",
      "Marcos  tiene depositada una cantidad de  300\n",
      "Juan  tiene depositada una cantidad de  43\n"
     ]
    }
   ],
   "source": [
    "# creamos la clase banco\n",
    "class Banco:\n",
    "    # inicializamos\n",
    "    def __init__(self):\n",
    "        self.cliente1=Cliente(\"Ivan\")\n",
    "        self.cliente2=Cliente(\"Marcos\")\n",
    "        self.cliente3=Cliente(\"Juan\")\n",
    "        \n",
    "\n",
    "    # función para operar\n",
    "    def operacion(self):\n",
    "        self.cliente1.depositar(1000)\n",
    "        self.cliente2.depositar(300)\n",
    "        self.cliente3.depositar(43)\n",
    "        self.cliente1.extraer(400)\n",
    "\n",
    "    # función para obtener los depósitos totales\n",
    "    def depositos(self):\n",
    "        total=self.cliente1.devolver_cantidad()+self.cliente2.devolver_cantidad()+self.cliente3.devolver_cantidad()\n",
    "        print(\"El total de dinero del banco es: \",total)\n",
    "        self.cliente1.imprimir()\n",
    "        self.cliente2.imprimir()\n",
    "        self.cliente3.imprimir()\n",
    "\n",
    "\n",
    "\n",
    "# creamos la clase Cliente\n",
    "class Cliente:\n",
    "    # inicializamos\n",
    "    def __init__(self,nombre):\n",
    "        self.nombre=nombre\n",
    "        self.cantidad=0\n",
    "        self.CajaAhorro=CajaAhorro(self.nombre, 0)\n",
    "        self.PlazoFijo=PlazoFijo(self.nombre,0,0,0)\n",
    "\n",
    "    # función para depositar dinero\n",
    "    def depositar(self,cantidad):\n",
    "        self.cantidad+=cantidad\n",
    "\n",
    "    # función para extraer dinero\n",
    "    def extraer(self,cantidad):\n",
    "        self.cantidad-=cantidad\n",
    "    \n",
    "    # función para obtener el total de dinero\n",
    "    def devolver_cantidad(self):\n",
    "        return self.cantidad\n",
    "\n",
    "    # función para imprimir los datos del cliente\n",
    "    def imprimir(self):\n",
    "        print(self.nombre, \" tiene depositada una cantidad de \",self.cantidad)\n",
    "\n",
    "banco1=Banco()\n",
    "banco1.operacion()\n",
    "banco1.depositos()"
   ]
  },
  {
   "cell_type": "code",
   "execution_count": 4,
   "id": "de44b4fd",
   "metadata": {},
   "outputs": [
    {
     "name": "stdout",
     "output_type": "stream",
     "text": [
      "Cuenta de caja de ahorros\n",
      "Titular:  Ivan\n",
      "Cantidad:  1000\n"
     ]
    }
   ],
   "source": [
    "banco1.cliente1.CajaAhorro=CajaAhorro(banco1.cliente1.nombre,1000)\n",
    "banco1.cliente1.CajaAhorro.imprimir()\n"
   ]
  },
  {
   "cell_type": "code",
   "execution_count": 5,
   "id": "28f47890",
   "metadata": {},
   "outputs": [
    {
     "name": "stdout",
     "output_type": "stream",
     "text": [
      "Cuenta a plazo fijo\n",
      "Titular:  Marcos\n",
      "Cantidad:  8000\n",
      "Plazo disponible en días:  365\n",
      "Interés:  1.2\n",
      "El importe de interés es:  96.0\n"
     ]
    }
   ],
   "source": [
    "banco1.cliente2.PlazoFijo=PlazoFijo(banco1.cliente2.nombre,8000,365,1.2)\n",
    "banco1.cliente2.PlazoFijo.imprimir()"
   ]
  },
  {
   "cell_type": "code",
   "execution_count": null,
   "id": "836c2676",
   "metadata": {},
   "outputs": [],
   "source": []
  }
 ],
 "metadata": {
  "kernelspec": {
   "display_name": "Python 3",
   "language": "python",
   "name": "python3"
  },
  "language_info": {
   "codemirror_mode": {
    "name": "ipython",
    "version": 3
   },
   "file_extension": ".py",
   "mimetype": "text/x-python",
   "name": "python",
   "nbconvert_exporter": "python",
   "pygments_lexer": "ipython3",
   "version": "3.9.5"
  }
 },
 "nbformat": 4,
 "nbformat_minor": 5
}
